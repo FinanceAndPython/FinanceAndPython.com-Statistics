{
 "cells": [
  {
   "cell_type": "code",
   "execution_count": 1,
   "metadata": {},
   "outputs": [
    {
     "name": "stdout",
     "output_type": "stream",
     "text": [
      "Probability of x=0\n",
      "0.16000000000000003\n",
      "Probability of x=1\n",
      "0.48\n",
      "Probability of x=2\n",
      "0.36\n"
     ]
    }
   ],
   "source": [
    "print(\"Probability of x=0\")\n",
    "print(.4*.4)\n",
    "print(\"Probability of x=1\")\n",
    "print(.6*.4+.4*.6)\n",
    "print(\"Probability of x=2\")\n",
    "print(.6*.6)"
   ]
  },
  {
   "cell_type": "code",
   "execution_count": 2,
   "metadata": {},
   "outputs": [
    {
     "name": "stdout",
     "output_type": "stream",
     "text": [
      "Probability of x=0\n",
      "0.06400000000000002\n",
      "Probability of x=1\n",
      "0.28800000000000003\n",
      "Probability of x=2\n",
      "0.43199999999999994\n",
      "Probability of x=3\n",
      "0.216\n"
     ]
    }
   ],
   "source": [
    "print(\"Probability of x=0\")\n",
    "print(.4*.4*.4)\n",
    "print(\"Probability of x=1\")\n",
    "print(.6*.4*.4+.4*.4*.6+.6*.4*.4)\n",
    "print(\"Probability of x=2\")\n",
    "print(.6*.6*.4+.4*.6*.6+.6*.4*.6)\n",
    "print(\"Probability of x=3\")\n",
    "print(.6*.6*.6)"
   ]
  },
  {
   "cell_type": "code",
   "execution_count": 3,
   "metadata": {
    "collapsed": true
   },
   "outputs": [],
   "source": [
    "from scipy.special import comb"
   ]
  },
  {
   "cell_type": "code",
   "execution_count": 4,
   "metadata": {},
   "outputs": [
    {
     "data": {
      "image/png": "[encoded data removed]",
      "text/plain": [
       "<matplotlib.figure.Figure at 0x11446f048>"
      ]
     },
     "metadata": {},
     "output_type": "display_data"
    }
   ],
   "source": [
    "import scipy.stats\n",
    "import matplotlib.pyplot as plt\n",
    "dist = scipy.stats.binom(10,.6)\n",
    "yVals = [dist.pmf(x) for x in range(11)]\n",
    "xVals = list(range(11))\n",
    "plt.bar(xVals, yVals, alpha=0.5)\n",
    "plt.title(\"Binomial Distribution Probabilities\")\n",
    "plt.xlabel(\"k\")\n",
    "plt.ylabel(\"Probability\")\n",
    "plt.show()"
   ]
  },
  {
   "cell_type": "code",
   "execution_count": 5,
   "metadata": {},
   "outputs": [
    {
     "name": "stdout",
     "output_type": "stream",
     "text": [
      "6.0\n",
      "6.0\n"
     ]
    }
   ],
   "source": [
    "import numpy as np\n",
    "print(np.sum([x*y for x,y in zip(yVals,xVals)]))\n",
    "print(10*.6)"
   ]
  },
  {
   "cell_type": "code",
   "execution_count": 6,
   "metadata": {},
   "outputs": [
    {
     "name": "stdout",
     "output_type": "stream",
     "text": [
      "2.39834061187\n",
      "2.4000000000000004\n"
     ]
    }
   ],
   "source": [
    "print(np.var(scipy.stats.binom.rvs(10, .6, size=1000000)))\n",
    "print(10*.6*.4)"
   ]
  }
 ],
 "metadata": {
  "kernelspec": {
   "display_name": "Python 3",
   "language": "python",
   "name": "python3"
  },
  "language_info": {
   "codemirror_mode": {
    "name": "ipython",
    "version": 3
   },
   "file_extension": ".py",
   "mimetype": "text/x-python",
   "name": "python",
   "nbconvert_exporter": "python",
   "pygments_lexer": "ipython3",
   "version": "3.6.1"
  }
 },
 "nbformat": 4,
 "nbformat_minor": 2
}
