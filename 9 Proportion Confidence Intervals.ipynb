{
 "cells": [
  {
   "cell_type": "code",
   "execution_count": 1,
   "metadata": {},
   "outputs": [
    {
     "name": "stdout",
     "output_type": "stream",
     "text": [
      "Sample Proportion\n",
      "0.18518518518518517\n",
      "\n",
      "Standard Error\n",
      "0.033432256809201484\n",
      "\n",
      "Z Score\n",
      "1.95996398454\n",
      "\n",
      "Lower Bound:\n",
      "0.119659165917\n",
      "Upper Bound:\n",
      "0.250711204453\n"
     ]
    }
   ],
   "source": [
    "import scipy.stats as st\n",
    "pHat = 25/135\n",
    "print(\"Sample Proportion\")\n",
    "print(pHat)\n",
    "print()\n",
    "SE = ((pHat*(1-pHat))/135)**.5\n",
    "print(\"Standard Error\")\n",
    "print(SE)\n",
    "print()\n",
    "z = -st.norm.ppf(.5-.95/2)\n",
    "print(\"Z Score\")\n",
    "print(z)\n",
    "print()\n",
    "print(\"Lower Bound:\")\n",
    "print(pHat-SE*z)\n",
    "print(\"Upper Bound:\")\n",
    "print(pHat+SE*z)"
   ]
  }
 ],
 "metadata": {
  "kernelspec": {
   "display_name": "Python 3",
   "language": "python",
   "name": "python3"
  },
  "language_info": {
   "codemirror_mode": {
    "name": "ipython",
    "version": 3
   },
   "file_extension": ".py",
   "mimetype": "text/x-python",
   "name": "python",
   "nbconvert_exporter": "python",
   "pygments_lexer": "ipython3",
   "version": "3.6.1"
  }
 },
 "nbformat": 4,
 "nbformat_minor": 2
}
