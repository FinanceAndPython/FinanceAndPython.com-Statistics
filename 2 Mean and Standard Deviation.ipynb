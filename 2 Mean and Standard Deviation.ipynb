{
 "cells": [
  {
   "cell_type": "code",
   "execution_count": 1,
   "metadata": {},
   "outputs": [
    {
     "name": "stdout",
     "output_type": "stream",
     "text": [
      "-1\n"
     ]
    }
   ],
   "source": [
    "from random import randint\n",
    "print(randint(-1, 1))"
   ]
  },
  {
   "cell_type": "code",
   "execution_count": 2,
   "metadata": {},
   "outputs": [
    {
     "name": "stdout",
     "output_type": "stream",
     "text": [
      "[0, 0, -1, -1, 0, -1, -1, -2, -2, -1, -2, -3, -3, -4, -4, -5, -4, -4, -4, -5, -4, -3, -3, -4, -4, -4, -5, -5, -6, -5, -4, -5, -4, -5, -6, -5, -5, -5, -5, -4, -5, -6, -6, -7, -8, -7, -6, -6, -5, -5, -4, -4, -5, -6, -5, -4, -5, -5, -5, -4, -5, -5, -6, -6, -7, -7, -6, -6, -5, -5, -6, -6, -6, -6, -6, -6, -5, -6, -6, -6, -5, -5, -4, -3, -2, -2, -1, 0, 0, -1, 0, 1, 0, 1, 1, 0, 1, 2, 1, 1, 1, 1, 0, -1, -1, 0, 0, 0, -1, 0, -1, -1, -1, -2, -3, -4, -4, -3, -4, -4, -4, -5, -5, -4, -4, -3, -4, -4, -4, -3, -2, -2, -3, -3, -4, -5, -6, -6, -5, -4, -3, -4, -5, -4, -3, -4, -4, -4, -3, -3, -3, -3, -4, -3, -3, -2, -1, -2, -1, -2, -2, -2, -1, 0, -1, -1, 0, 1, 1, 2, 2, 3, 3, 2, 3, 2, 3, 2, 1, 0, -1, -2, -2, -1, -2, -1, -1, 0, 1, 1, 2, 1, 0, -1, 0, 1, 0, 1, 2, 1, 1]\n"
     ]
    }
   ],
   "source": [
    "walk = [0]\n",
    "for _ in range(200):\n",
    "    walk.append(randint(-1, 1)+walk[-1])\n",
    "print(walk)"
   ]
  },
  {
   "cell_type": "code",
   "execution_count": 3,
   "metadata": {},
   "outputs": [
    {
     "data": {
      "image/png": "[encoded data removed]",
      "text/plain": [
       "<matplotlib.figure.Figure at 0x108a0ad30>"
      ]
     },
     "metadata": {},
     "output_type": "display_data"
    }
   ],
   "source": [
    "import matplotlib.pyplot as plt\n",
    "plt.plot(walk)\n",
    "plt.xlabel(\"Time\")\n",
    "plt.ylabel(\"Place\")\n",
    "plt.title(\"Random Walk\")\n",
    "plt.show()"
   ]
  },
  {
   "cell_type": "code",
   "execution_count": 4,
   "metadata": {},
   "outputs": [
    {
     "data": {
      "image/png": "[encoded data removed]",
      "text/plain": [
       "<matplotlib.figure.Figure at 0x10e357c18>"
      ]
     },
     "metadata": {},
     "output_type": "display_data"
    }
   ],
   "source": [
    "import numpy as np\n",
    "scores = [400+np.random.normal()*100 for _ in range(2000)]\n",
    "plt.hist(scores,bins=20)\n",
    "plt.show()"
   ]
  },
  {
   "cell_type": "code",
   "execution_count": 5,
   "metadata": {},
   "outputs": [
    {
     "name": "stdout",
     "output_type": "stream",
     "text": [
      "398.780319952\n",
      "95.537705202\n"
     ]
    }
   ],
   "source": [
    "scores = np.array(scores)\n",
    "print(scores.mean())\n",
    "print(scores.std())"
   ]
  },
  {
   "cell_type": "code",
   "execution_count": 6,
   "metadata": {},
   "outputs": [
    {
     "name": "stdout",
     "output_type": "stream",
     "text": [
      "398.780319952\n",
      "95.537705202\n",
      "95.5615985887\n"
     ]
    }
   ],
   "source": [
    "xbar = sum(scores)/len(scores)\n",
    "print(xbar)\n",
    "sigma = (sum([(x-xbar)**2 for x in scores])/len(scores))**.5\n",
    "print(sigma)\n",
    "s = (sum([(x-xbar)**2 for x in scores])/(len(scores)-1))**.5\n",
    "print(s)"
   ]
  },
  {
   "cell_type": "code",
   "execution_count": 7,
   "metadata": {},
   "outputs": [
    {
     "name": "stdout",
     "output_type": "stream",
     "text": [
      "397.598641173\n"
     ]
    }
   ],
   "source": [
    "print(np.median(scores))"
   ]
  },
  {
   "cell_type": "code",
   "execution_count": 8,
   "metadata": {},
   "outputs": [
    {
     "name": "stdout",
     "output_type": "stream",
     "text": [
      "336.578814248\n",
      "464.022763572\n"
     ]
    }
   ],
   "source": [
    "print(np.percentile(scores,25))\n",
    "print(np.percentile(scores,75))"
   ]
  },
  {
   "cell_type": "code",
   "execution_count": 9,
   "metadata": {},
   "outputs": [
    {
     "name": "stdout",
     "output_type": "stream",
     "text": [
      "Mean...\n",
      "398.780319952 498.780319952\n",
      "Standard Deviation...\n",
      "95.537705202 95.537705202\n",
      "\n",
      "71.6868607025 171.686860702\n",
      "336.578814248 436.578814248\n",
      "397.598641173 497.598641173\n",
      "464.022763572 564.022763572\n",
      "722.849841317 822.849841317\n"
     ]
    }
   ],
   "source": [
    "scores2 = scores+100\n",
    "print(\"Mean...\")\n",
    "print(scores.mean(),scores2.mean())\n",
    "print(\"Standard Deviation...\")\n",
    "print(scores.std(),scores2.std())\n",
    "print(\"\")\n",
    "print(np.percentile(scores,0),np.percentile(scores2,0))\n",
    "print(np.percentile(scores,25),np.percentile(scores2,25))\n",
    "print(np.percentile(scores,50),np.percentile(scores2,50))\n",
    "print(np.percentile(scores,75),np.percentile(scores2,75))\n",
    "print(np.percentile(scores,100),np.percentile(scores2,100))"
   ]
  },
  {
   "cell_type": "code",
   "execution_count": 10,
   "metadata": {},
   "outputs": [
    {
     "name": "stdout",
     "output_type": "stream",
     "text": [
      "Mean...\n",
      "398.780319952 797.560639905\n",
      "Standard Deviation...\n",
      "95.537705202 191.075410404\n",
      "\n",
      "71.6868607025 143.373721405\n",
      "336.578814248 673.157628497\n",
      "397.598641173 795.197282346\n",
      "464.022763572 928.045527144\n",
      "722.849841317 1445.69968263\n"
     ]
    }
   ],
   "source": [
    "scores2 = scores*2\n",
    "print(\"Mean...\")\n",
    "print(scores.mean(),scores2.mean())\n",
    "print(\"Standard Deviation...\")\n",
    "print(scores.std(),scores2.std())\n",
    "print(\"\")\n",
    "print(np.percentile(scores,0),np.percentile(scores2,0))\n",
    "print(np.percentile(scores,25),np.percentile(scores2,25))\n",
    "print(np.percentile(scores,50),np.percentile(scores2,50))\n",
    "print(np.percentile(scores,75),np.percentile(scores2,75))\n",
    "print(np.percentile(scores,100),np.percentile(scores2,100))"
   ]
  }
 ],
 "metadata": {
  "kernelspec": {
   "display_name": "Python 3",
   "language": "python",
   "name": "python3"
  },
  "language_info": {
   "codemirror_mode": {
    "name": "ipython",
    "version": 3
   },
   "file_extension": ".py",
   "mimetype": "text/x-python",
   "name": "python",
   "nbconvert_exporter": "python",
   "pygments_lexer": "ipython3",
   "version": "3.6.1"
  }
 },
 "nbformat": 4,
 "nbformat_minor": 2
}
