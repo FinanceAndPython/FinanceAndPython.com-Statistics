{
 "cells": [
  {
   "cell_type": "code",
   "execution_count": 1,
   "metadata": {},
   "outputs": [
    {
     "name": "stdout",
     "output_type": "stream",
     "text": [
      "-3.692744729379982\n",
      "0.000221846680663\n",
      "0.000110923340332\n"
     ]
    }
   ],
   "source": [
    "import scipy.stats\n",
    "t = ((100-105)-(0))/(5**2/50+10**2/75)**.5\n",
    "print(t)\n",
    "print(scipy.stats.norm.cdf(t)*2)\n",
    "print(scipy.stats.norm.cdf(t))"
   ]
  },
  {
   "cell_type": "code",
   "execution_count": 2,
   "metadata": {
    "collapsed": true
   },
   "outputs": [],
   "source": [
    "dist1 = scipy.stats.norm(300,100)\n",
    "dist2 = scipy.stats.norm(400,100)\n",
    "\n",
    "pts1 = dist1.rvs(25,random_state=1)\n",
    "pts2 = dist2.rvs(26,random_state=2)"
   ]
  },
  {
   "cell_type": "code",
   "execution_count": 3,
   "metadata": {},
   "outputs": [
    {
     "name": "stdout",
     "output_type": "stream",
     "text": [
      "-2.64215145482\n",
      "0.0142729384707\n"
     ]
    }
   ],
   "source": [
    "import numpy as np\n",
    "sd1 = np.std(pts1)\n",
    "sd2 = np.std(pts2)\n",
    "mean1 = np.mean(pts1)\n",
    "mean2 = np.mean(pts2)\n",
    "t = ((mean1-mean2)-(0))/(sd1**2/25+sd2**2/26)**.5\n",
    "print(t)\n",
    "print(scipy.stats.t.cdf(t,25-1)*2)"
   ]
  },
  {
   "cell_type": "code",
   "execution_count": 4,
   "metadata": {},
   "outputs": [
    {
     "name": "stdout",
     "output_type": "stream",
     "text": [
      "-1.25455941161\n",
      "0.221719500736\n"
     ]
    }
   ],
   "source": [
    "import numpy as np\n",
    "sd1 = np.std(pts1)\n",
    "sd2 = np.std(pts2)\n",
    "mean1 = np.mean(pts1)\n",
    "mean2 = np.mean(pts2)\n",
    "t = ((mean1-mean2)-(-40))/(sd1**2/25+sd2**2/26)**.5\n",
    "print(t)\n",
    "print(scipy.stats.t.cdf(t,25-1)*2)"
   ]
  },
  {
   "cell_type": "code",
   "execution_count": 5,
   "metadata": {},
   "outputs": [
    {
     "name": "stdout",
     "output_type": "stream",
     "text": [
      "0.828403508303\n",
      "0.411458956843\n"
     ]
    }
   ],
   "source": [
    "sdp2 = ((25-1)*sd1**2+(26-1)*sd2**2)/(25+26-2)\n",
    "sdp = sdp2**.5\n",
    "t = ((mean1-mean2)-(-100))/(sdp*(1/25+1/26)**.5)\n",
    "print(t)\n",
    "print(scipy.stats.t.cdf(-t,25+26-2)*2)"
   ]
  }
 ],
 "metadata": {
  "kernelspec": {
   "display_name": "Python 3",
   "language": "python",
   "name": "python3"
  },
  "language_info": {
   "codemirror_mode": {
    "name": "ipython",
    "version": 3
   },
   "file_extension": ".py",
   "mimetype": "text/x-python",
   "name": "python",
   "nbconvert_exporter": "python",
   "pygments_lexer": "ipython3",
   "version": "3.6.1"
  }
 },
 "nbformat": 4,
 "nbformat_minor": 2
}
