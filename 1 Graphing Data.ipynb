{
 "cells": [
  {
   "cell_type": "code",
   "execution_count": 1,
   "metadata": {
    "collapsed": true
   },
   "outputs": [],
   "source": [
    "import numpy as np\n",
    "answers = np.array([0, 2, 1, 0, 4, 2, 3, 1, 4, 1, 4, 2, 3])"
   ]
  },
  {
   "cell_type": "code",
   "execution_count": 2,
   "metadata": {},
   "outputs": [
    {
     "name": "stdout",
     "output_type": "stream",
     "text": [
      "[2 3 3 2 3]\n"
     ]
    }
   ],
   "source": [
    "print(np.bincount(answers))"
   ]
  },
  {
   "cell_type": "code",
   "execution_count": 3,
   "metadata": {},
   "outputs": [
    {
     "data": {
      "image/png": "[encoded data removed]",
      "text/plain": [
       "<matplotlib.figure.Figure at 0x10ee75128>"
      ]
     },
     "metadata": {},
     "output_type": "display_data"
    }
   ],
   "source": [
    "vals = list(range(0,5))\n",
    "counts = np.bincount(answers)\n",
    "import matplotlib.pyplot as plt\n",
    "plt.bar(vals,counts)\n",
    "plt.show()"
   ]
  },
  {
   "cell_type": "code",
   "execution_count": 4,
   "metadata": {},
   "outputs": [
    {
     "data": {
      "image/png": "[encoded data removed]",
      "text/plain": [
       "<matplotlib.figure.Figure at 0x11545e3c8>"
      ]
     },
     "metadata": {},
     "output_type": "display_data"
    }
   ],
   "source": [
    "answers = np.array([0, 0, 1, 1, 1, 1, 2, 2, 2, 2, 2, 2, 2, 2, 2, 3, 3, 3, 4])\n",
    "vals = list(range(0,5))\n",
    "counts = np.bincount(answers)\n",
    "plt.bar(vals,counts)\n",
    "plt.show()"
   ]
  },
  {
   "cell_type": "code",
   "execution_count": 5,
   "metadata": {},
   "outputs": [
    {
     "data": {
      "image/png": "[encoded data removed]",
      "text/plain": [
       "<matplotlib.figure.Figure at 0x1155d4710>"
      ]
     },
     "metadata": {},
     "output_type": "display_data"
    }
   ],
   "source": [
    "answers = np.array([0, 0, 1, 1, 1, 1,2, 2, 2, 2, 2, 3, 3, 3, 3, 3, 3, 3,4,4,4,4, 4])\n",
    "vals = list(range(0,5))\n",
    "counts = np.bincount(answers)\n",
    "plt.bar(vals,counts)\n",
    "plt.show()"
   ]
  },
  {
   "cell_type": "code",
   "execution_count": 6,
   "metadata": {},
   "outputs": [
    {
     "data": {
      "image/png": "[encoded data removed]",
      "text/plain": [
       "<matplotlib.figure.Figure at 0x115646d68>"
      ]
     },
     "metadata": {},
     "output_type": "display_data"
    },
    {
     "name": "stdout",
     "output_type": "stream",
     "text": [
      "The mode is 2\n"
     ]
    }
   ],
   "source": [
    "answers = np.array([0, 0, 1, 1, 1, 1, 2, 2, 2, 2, 2, 2, 2, 2, 2, 3, 3, 3, 4])\n",
    "vals = list(range(0,5))\n",
    "counts = np.bincount(answers)\n",
    "plt.bar(vals,counts)\n",
    "plt.show()\n",
    "print(\"The mode is \" + str(np.argmax(counts)))"
   ]
  },
  {
   "cell_type": "code",
   "execution_count": 7,
   "metadata": {},
   "outputs": [
    {
     "name": "stdout",
     "output_type": "stream",
     "text": [
      "[(2, 9)]\n"
     ]
    }
   ],
   "source": [
    "from collections import Counter\n",
    "data = Counter(answers)\n",
    "print(data.most_common(1))"
   ]
  },
  {
   "cell_type": "code",
   "execution_count": 8,
   "metadata": {},
   "outputs": [
    {
     "name": "stdout",
     "output_type": "stream",
     "text": [
      "[(2, 9), (1, 4)]\n"
     ]
    }
   ],
   "source": [
    "print(data.most_common(2))"
   ]
  },
  {
   "cell_type": "code",
   "execution_count": 9,
   "metadata": {},
   "outputs": [
    {
     "name": "stdout",
     "output_type": "stream",
     "text": [
      "16\n"
     ]
    }
   ],
   "source": [
    "from random import randint\n",
    "print(randint(0, 100))"
   ]
  },
  {
   "cell_type": "code",
   "execution_count": 10,
   "metadata": {},
   "outputs": [
    {
     "name": "stdout",
     "output_type": "stream",
     "text": [
      "[23, 92, 77, 69, 46, 98, 74, 94, 17, 77, 76, 18, 49, 3, 100, 84, 19, 96, 18, 55, 94, 30, 15, 20, 29, 39, 46, 35, 90, 52, 27, 86, 89, 62, 3, 31, 55, 10, 49, 53, 14, 91, 45, 7, 23, 60, 62, 91, 60, 44, 43, 95, 48, 10, 79, 84, 0, 80, 88, 85, 85, 15, 94, 16, 47, 77, 14, 12, 74, 10, 96, 86, 25, 50, 76, 100, 84, 22, 45, 10, 55, 97, 55, 79, 55, 85, 11, 38, 100, 0, 19, 30, 50, 22, 50, 45, 19, 100, 48, 79]\n"
     ]
    }
   ],
   "source": [
    "from random import randint\n",
    "grades = [randint(0, 100) for x in range(100)]\n",
    "print(grades)"
   ]
  },
  {
   "cell_type": "code",
   "execution_count": 11,
   "metadata": {},
   "outputs": [
    {
     "data": {
      "image/png": "[encoded data removed]",
      "text/plain": [
       "<matplotlib.figure.Figure at 0x115522710>"
      ]
     },
     "metadata": {},
     "output_type": "display_data"
    }
   ],
   "source": [
    "plt.hist(grades)\n",
    "plt.show()"
   ]
  },
  {
   "cell_type": "code",
   "execution_count": 12,
   "metadata": {},
   "outputs": [
    {
     "data": {
      "image/png": "[encoded data removed]",
      "text/plain": [
       "<matplotlib.figure.Figure at 0x1159ca2e8>"
      ]
     },
     "metadata": {},
     "output_type": "display_data"
    }
   ],
   "source": [
    "plt.hist(grades,bins=30)\n",
    "plt.show()"
   ]
  }
 ],
 "metadata": {
  "kernelspec": {
   "display_name": "Python 3",
   "language": "python",
   "name": "python3"
  },
  "language_info": {
   "codemirror_mode": {
    "name": "ipython",
    "version": 3
   },
   "file_extension": ".py",
   "mimetype": "text/x-python",
   "name": "python",
   "nbconvert_exporter": "python",
   "pygments_lexer": "ipython3",
   "version": "3.6.1"
  }
 },
 "nbformat": 4,
 "nbformat_minor": 2
}
